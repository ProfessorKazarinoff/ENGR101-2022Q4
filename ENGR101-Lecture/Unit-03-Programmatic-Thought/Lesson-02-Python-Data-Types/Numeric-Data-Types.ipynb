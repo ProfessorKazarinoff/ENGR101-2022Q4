{
 "cells": [
  {
   "cell_type": "markdown",
   "id": "8b265ffc",
   "metadata": {
    "slideshow": {
     "slide_type": "slide"
    }
   },
   "source": [
    "# Numeric Data Types\n",
    "\n",
    "![Python logo](images/python-logo.png)"
   ]
  },
  {
   "cell_type": "markdown",
   "id": "9ca5f6ad",
   "metadata": {
    "slideshow": {
     "slide_type": "slide"
    }
   },
   "source": [
    "# What is a data type?\n",
    "\n",
    "\n",
    "![programming icon](images/cyber_glasses_virtual_virtual_world_virtual_glasses_data_programming_programming_data_animation-1204851.jpg)"
   ]
  },
  {
   "cell_type": "markdown",
   "id": "67683cd2",
   "metadata": {
    "slideshow": {
     "slide_type": "slide"
    }
   },
   "source": [
    "# Numeric Data Types\n",
    "\n",
    "## Integers (```int```)\n",
    "\n",
    "## Floating Point Numbers (```float```)\n",
    "\n",
    "## Complex Numbers (```complex```)"
   ]
  },
  {
   "cell_type": "markdown",
   "id": "42a3f6dc",
   "metadata": {
    "slideshow": {
     "slide_type": "slide"
    }
   },
   "source": [
    "# Integers (```int```)\n",
    "\n",
    "## whole numbers: positive, negative and zero\n",
    "\n",
    "## ```-5, 0, 1, 1200```"
   ]
  },
  {
   "cell_type": "markdown",
   "id": "dc742342",
   "metadata": {
    "slideshow": {
     "slide_type": "slide"
    }
   },
   "source": [
    "# Floating Point Numbers (```float```)\n",
    "\n",
    "## decimals, numbers that can be expressed in scientific notation\n",
    "\n",
    "## ```-2.0, 1.1, 5e8, 6.02e23```"
   ]
  },
  {
   "cell_type": "markdown",
   "id": "2a702050",
   "metadata": {
    "slideshow": {
     "slide_type": "slide"
    }
   },
   "source": [
    "# Complex Numbers (```complex```)\n",
    "\n",
    "## imaginary numbers, numbers with a real and imaginary component\n",
    "\n",
    "## ```5j, 4 + 8j, -2.1 - 8.1j```"
   ]
  }
 ],
 "metadata": {
  "celltoolbar": "Slideshow",
  "kernelspec": {
   "display_name": "Python 3 (ipykernel)",
   "language": "python",
   "name": "python3"
  },
  "language_info": {
   "codemirror_mode": {
    "name": "ipython",
    "version": 3
   },
   "file_extension": ".py",
   "mimetype": "text/x-python",
   "name": "python",
   "nbconvert_exporter": "python",
   "pygments_lexer": "ipython3",
   "version": "3.9.7"
  }
 },
 "nbformat": 4,
 "nbformat_minor": 5
}
