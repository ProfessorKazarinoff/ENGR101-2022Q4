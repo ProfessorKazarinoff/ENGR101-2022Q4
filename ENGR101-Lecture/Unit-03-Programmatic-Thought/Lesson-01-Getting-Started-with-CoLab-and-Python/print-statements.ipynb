{
 "cells": [
  {
   "cell_type": "markdown",
   "id": "8b265ffc",
   "metadata": {
    "slideshow": {
     "slide_type": "slide"
    }
   },
   "source": [
    "# Print Statements in Python\n",
    "\n",
    "![Python logo](images/python-logo.png)"
   ]
  },
  {
   "cell_type": "markdown",
   "id": "9ca5f6ad",
   "metadata": {
    "slideshow": {
     "slide_type": "slide"
    }
   },
   "source": [
    "# Print is a Python function\n",
    "\n",
    "\n",
    "```\n",
    "print()\n",
    "```"
   ]
  },
  {
   "cell_type": "markdown",
   "id": "67683cd2",
   "metadata": {
    "slideshow": {
     "slide_type": "slide"
    }
   },
   "source": [
    "# Calling the print function\n",
    "\n",
    "```\n",
    "print(\"messsage\")\n",
    "```"
   ]
  },
  {
   "cell_type": "markdown",
   "id": "42a3f6dc",
   "metadata": {
    "slideshow": {
     "slide_type": "slide"
    }
   },
   "source": [
    "# Output of the print function\n",
    "\n",
    "```\n",
    "print(\"hello ENGR101\")\n",
    "```\n",
    "\n",
    "```\n",
    "hello ENGR101\n",
    "```"
   ]
  },
  {
   "cell_type": "markdown",
   "id": "cfc66083",
   "metadata": {
    "slideshow": {
     "slide_type": "slide"
    }
   },
   "source": [
    "# Examples in Google CoLab"
   ]
  }
 ],
 "metadata": {
  "celltoolbar": "Slideshow",
  "kernelspec": {
   "display_name": "Python 3 (ipykernel)",
   "language": "python",
   "name": "python3"
  },
  "language_info": {
   "codemirror_mode": {
    "name": "ipython",
    "version": 3
   },
   "file_extension": ".py",
   "mimetype": "text/x-python",
   "name": "python",
   "nbconvert_exporter": "python",
   "pygments_lexer": "ipython3",
   "version": "3.9.7"
  }
 },
 "nbformat": 4,
 "nbformat_minor": 5
}
