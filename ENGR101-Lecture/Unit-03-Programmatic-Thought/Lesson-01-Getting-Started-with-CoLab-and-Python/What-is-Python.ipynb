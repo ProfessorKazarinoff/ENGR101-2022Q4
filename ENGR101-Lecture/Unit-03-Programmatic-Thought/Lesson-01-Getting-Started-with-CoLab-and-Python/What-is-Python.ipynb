{
 "cells": [
  {
   "cell_type": "markdown",
   "id": "8b265ffc",
   "metadata": {
    "slideshow": {
     "slide_type": "slide"
    }
   },
   "source": [
    "# What is Python?\n",
    "\n",
    "![Python logo](images/python-logo.png)"
   ]
  },
  {
   "cell_type": "markdown",
   "id": "9ca5f6ad",
   "metadata": {
    "slideshow": {
     "slide_type": "slide"
    }
   },
   "source": [
    "# Python is a programming language\n",
    "\n",
    "\n",
    "![programming icon](images/programming-icon.png)"
   ]
  },
  {
   "cell_type": "markdown",
   "id": "67683cd2",
   "metadata": {
    "slideshow": {
     "slide_type": "slide"
    }
   },
   "source": [
    "# Python is a Computer Program\n",
    "\n",
    "![computer program](images/computer-program.png)"
   ]
  },
  {
   "cell_type": "code",
   "execution_count": null,
   "id": "c6ef01cc",
   "metadata": {},
   "outputs": [],
   "source": []
  }
 ],
 "metadata": {
  "celltoolbar": "Slideshow",
  "kernelspec": {
   "display_name": "Python 3 (ipykernel)",
   "language": "python",
   "name": "python3"
  },
  "language_info": {
   "codemirror_mode": {
    "name": "ipython",
    "version": 3
   },
   "file_extension": ".py",
   "mimetype": "text/x-python",
   "name": "python",
   "nbconvert_exporter": "python",
   "pygments_lexer": "ipython3",
   "version": "3.10.4"
  }
 },
 "nbformat": 4,
 "nbformat_minor": 5
}
