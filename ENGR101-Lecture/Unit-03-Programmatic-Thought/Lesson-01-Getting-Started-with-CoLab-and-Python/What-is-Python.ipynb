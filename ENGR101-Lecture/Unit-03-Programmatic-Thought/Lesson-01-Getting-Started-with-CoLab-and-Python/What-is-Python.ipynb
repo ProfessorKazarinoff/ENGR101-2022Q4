{
 "cells": [
  {
   "cell_type": "markdown",
   "id": "8b265ffc",
   "metadata": {
    "slideshow": {
     "slide_type": "slide"
    }
   },
   "source": [
    "# What is Python?\n",
    "\n",
    "![Python logo](images/python-logo.png)"
   ]
  },
  {
   "cell_type": "markdown",
   "id": "9ca5f6ad",
   "metadata": {
    "slideshow": {
     "slide_type": "slide"
    }
   },
   "source": [
    "# Python is a programming language\n",
    "\n",
    "\n",
    "![programming icon](images/programming-icon.png)"
   ]
  },
  {
   "cell_type": "markdown",
   "id": "67683cd2",
   "metadata": {
    "slideshow": {
     "slide_type": "slide"
    }
   },
   "source": [
    "# Python is a Computer Program\n",
    "\n",
    "![computer program](images/computer-program.png)"
   ]
  },
  {
   "cell_type": "markdown",
   "id": "42a3f6dc",
   "metadata": {
    "slideshow": {
     "slide_type": "slide"
    }
   },
   "source": [
    "# Python is a powerful programming language"
   ]
  },
  {
   "cell_type": "markdown",
   "id": "dc742342",
   "metadata": {
    "slideshow": {
     "slide_type": "slide"
    }
   },
   "source": [
    "![black hole](images/black-hole.png)"
   ]
  },
  {
   "cell_type": "markdown",
   "id": "2a702050",
   "metadata": {
    "slideshow": {
     "slide_type": "slide"
    }
   },
   "source": [
    "![F1 Car](images/f1-car.jpeg)"
   ]
  },
  {
   "cell_type": "markdown",
   "id": "3f215db3",
   "metadata": {
    "slideshow": {
     "slide_type": "slide"
    }
   },
   "source": [
    "![Large Hadron Colider](images/Large_Hadron_Collider.jpeg)"
   ]
  },
  {
   "cell_type": "markdown",
   "id": "cfc66083",
   "metadata": {
    "slideshow": {
     "slide_type": "slide"
    }
   },
   "source": [
    "# Python is a versitile programming language"
   ]
  },
  {
   "cell_type": "markdown",
   "id": "628bde61",
   "metadata": {
    "slideshow": {
     "slide_type": "slide"
    }
   },
   "source": [
    "# Websites\n",
    "\n",
    "![instagram](images/instagram.jpeg)"
   ]
  },
  {
   "cell_type": "markdown",
   "id": "ffd43175",
   "metadata": {
    "slideshow": {
     "slide_type": "slide"
    }
   },
   "source": [
    "# Research\n",
    "\n",
    "![brain](images/brain.jpeg)"
   ]
  },
  {
   "cell_type": "markdown",
   "id": "2a221aa1",
   "metadata": {
    "slideshow": {
     "slide_type": "slide"
    }
   },
   "source": [
    "# Almost 400,000 free packages\n",
    "\n",
    "![PyPI-logo](images/PyPI-logo.png)"
   ]
  },
  {
   "cell_type": "markdown",
   "id": "41fc5d59",
   "metadata": {
    "slideshow": {
     "slide_type": "slide"
    }
   },
   "source": [
    "# Free and Open Souce\n",
    "\n",
    "![Python Logo](images/Python_logo.svg)\n",
    "\n"
   ]
  }
 ],
 "metadata": {
  "celltoolbar": "Slideshow",
  "kernelspec": {
   "display_name": "Python 3 (ipykernel)",
   "language": "python",
   "name": "python3"
  },
  "language_info": {
   "codemirror_mode": {
    "name": "ipython",
    "version": 3
   },
   "file_extension": ".py",
   "mimetype": "text/x-python",
   "name": "python",
   "nbconvert_exporter": "python",
   "pygments_lexer": "ipython3",
   "version": "3.9.7"
  }
 },
 "nbformat": 4,
 "nbformat_minor": 5
}
